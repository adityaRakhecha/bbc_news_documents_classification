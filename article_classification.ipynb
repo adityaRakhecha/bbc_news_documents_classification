{
  "nbformat": 4,
  "nbformat_minor": 0,
  "metadata": {
    "colab": {
      "name": "paramAI_assignment.ipynb",
      "provenance": [],
      "collapsed_sections": []
    },
    "kernelspec": {
      "name": "python3",
      "display_name": "Python 3"
    }
  },
  "cells": [
    {
      "cell_type": "markdown",
      "metadata": {
        "id": "rGVGfZttbq8S",
        "colab_type": "text"
      },
      "source": [
        "**Import necessary packages**"
      ]
    },
    {
      "cell_type": "code",
      "metadata": {
        "id": "8U23oX6NbRZo",
        "colab_type": "code",
        "colab": {}
      },
      "source": [
        "import os\n",
        "\n",
        "import pandas as pd\n",
        "import matplotlib.pyplot as plt\n",
        "import numpy as np\n",
        "\n",
        "import nltk\n",
        "from nltk.corpus import stopwordsHere is a dataset consist of 2225 documents from the BBC news website comprising stories in five topical areas for the annual year 2004-2005.\n",
        "\n",
        "Each document corresponds to news and we have 5 classes - business, entertainment, politics, sport, tech. \n",
        "\n",
        "You can find the document related to a specific class in their respective folders. i.e, documents related to entertainment class can be found in the entertainment folder and likewise for the other classes.\n",
        "from nltk.stem import WordNetLemmatizer\n",
        "\n",
        "from sklearn.preprocessing import LabelEncoder\n",
        "from sklearn.model_selection import train_test_split, cross_val_score\n",
        "from sklearn.feature_extraction.text import TfidfVectorizer\n",
        "from sklearn.ensemble import RandomForestClassifier, ExtraTreesClassifier\n",
        "from sklearn.pipeline import Pipeline\n",
        "from sklearn.model_selection import RandomizedSearchCV\n",
        "from sklearn.metrics import accuracy_score, confusion_matrix\n",
        "\n",
        "from gensim.models.word2vec import Word2Vec\n",
        "from collections import Counter, defaultdict\n",
        "\n",
        "import seaborn as sns"
      ],
      "execution_count": 0,
      "outputs": []
    },
    {
      "cell_type": "markdown",
      "metadata": {
        "id": "ba2t9OQebvge",
        "colab_type": "text"
      },
      "source": [
        "**Data Preparation**"
      ]
    },
    {
      "cell_type": "markdown",
      "metadata": {
        "id": "WRLiNAX3bz33",
        "colab_type": "text"
      },
      "source": [
        "1. Load the raw data zip file and unzip it"
      ]
    },
    {
      "cell_type": "code",
      "metadata": {
        "id": "b1E_lHfXbuNK",
        "colab_type": "code",
        "colab": {}
      },
      "source": [
        "# Upload the raw dataset on colab\n",
        "!unzip bbc-fulltext.zip\n",
        "# !ls \"./bbc\""
      ],
      "execution_count": 0,
      "outputs": []
    },
    {
      "cell_type": "code",
      "metadata": {
        "id": "q-yiHED_cBwq",
        "colab_type": "code",
        "outputId": "bc591570-5ae2-47c0-a66e-b11d65c69c0f",
        "colab": {
          "base_uri": "https://localhost:8080/",
          "height": 34
        }
      },
      "source": [
        "# Get all the sub-directories name\n",
        "dir = './bbc/'\n",
        "_, dirs, _ = os.walk(dir).__next__()\n",
        "print(dirs)\n",
        "class_names = dirs"
      ],
      "execution_count": 444,
      "outputs": [
        {
          "output_type": "stream",
          "text": [
            "['business', 'politics', 'sport', 'entertainment', 'tech']\n"
          ],
          "name": "stdout"
        }
      ]
    },
    {
      "cell_type": "code",
      "metadata": {
        "id": "rGN8MjQXcLj5",
        "colab_type": "code",
        "outputId": "dfa57f5b-2803-4bc2-b6f5-4016cfd796bf",
        "colab": {
          "base_uri": "https://localhost:8080/",
          "height": 104
        }
      },
      "source": [
        "# Print total number of files in each sub-directory\n",
        "for file in dirs:\n",
        "  print(file , \" : \", len(os.listdir(dir + file)))"
      ],
      "execution_count": 445,
      "outputs": [
        {
          "output_type": "stream",
          "text": [
            "business  :  510\n",
            "politics  :  417\n",
            "sport  :  511\n",
            "entertainment  :  386\n",
            "tech  :  401\n"
          ],
          "name": "stdout"
        }
      ]
    },
    {
      "cell_type": "markdown",
      "metadata": {
        "id": "GJJNDVZKcQax",
        "colab_type": "text"
      },
      "source": [
        "2. Dataset creation"
      ]
    },
    {
      "cell_type": "code",
      "metadata": {
        "id": "PWuf2AzJcNqO",
        "colab_type": "code",
        "outputId": "ab7d8c90-cf7f-4689-e034-7988b8f108f3",
        "colab": {
          "base_uri": "https://localhost:8080/",
          "height": 34
        }
      },
      "source": [
        "file_name = []\n",
        "text = []\n",
        "class_name = []\n",
        "\n",
        "for folder in dirs:\n",
        "  \n",
        "  for file in os.listdir(dir + folder):\n",
        "    \n",
        "      if file.endswith(\".txt\"):\n",
        "        \n",
        "          file_path = os.path.join(dir,folder,file)\n",
        "          file_name.append(file)\n",
        "          with open(file_path, 'rb') as f:\n",
        "            text.append(f.read())\n",
        "          class_name.append(folder)\n",
        "          \n",
        "print(len(file_name),len(text),len(class_name))"
      ],
      "execution_count": 446,
      "outputs": [
        {
          "output_type": "stream",
          "text": [
            "2225 2225 2225\n"
          ],
          "name": "stdout"
        }
      ]
    },
    {
      "cell_type": "markdown",
      "metadata": {
        "id": "RXbnVKnFcc7S",
        "colab_type": "text"
      },
      "source": [
        "Let's see how our text data looks like: "
      ]
    },
    {
      "cell_type": "code",
      "metadata": {
        "id": "jTxVtYAEcfXm",
        "colab_type": "code",
        "outputId": "7b0f361b-eb42-4b1c-c433-bdf54bb200bc",
        "colab": {
          "base_uri": "https://localhost:8080/",
          "height": 54
        }
      },
      "source": [
        "text[2]"
      ],
      "execution_count": 447,
      "outputs": [
        {
          "output_type": "execute_result",
          "data": {
            "text/plain": [
              "b'Novartis hits acquisition trail\\n\\nSwiss drugmaker Novartis has announced 5.65bn euros ($7.4bn; \\xc2\\xa33.9bn) of purchases to make its Sandoz unit the world\\'s biggest generic drug producer.\\n\\nNovartis, which last month forecast record sales for 2005, said it had bought all of Germany\\'s Hexal. It also acquired 67.7% of Hexal\\'s US affiliate Eon Labs, and offered to buy the remaining shares for $31 each. Novartis said that it would be able to make cost savings of about $200m a year following the acquisitions. Novartis\\' shares rose 1% to 57.85 Swiss francs in early trading.\\n\\nThe deal will see Novartis\\' Sandoz business overtake Israel\\'s Teva Pharmaceuticals as the world\\'s biggest maker of generics. Based on 2004 figures the newly merged producer would have sales of more than $5bn, the company estimated. Novartis said that it would merge a number of departments, adding that there may be job cuts.\\n\\n\"The strong growth outlook for Sandoz, which will create jobs, is expected to partially compensate for necessary reductions in the work force,\" the firm said in a statement. Generic drugs are chemically identical to their more expensive branded rivals. Producers such as Sandoz can copy the branded products usually after their patent protection expires and can sell them more cheaply as they do not have to pay research and development cost.\\n\\nThere are more than 150 generic drugmakers worldwide and analysts have predicted consolidation in a market that they call fragmented. However, not all analysts were initially convinced about the deal. \"This is a very expensive acquisition,\" Birgit Kuhlhoff, from Sal Oppenheim investment bank, told Reuters. \"I find it strange that they are making acquisitions in exactly those markets where they suffered price pressure.\"\\n'"
            ]
          },
          "metadata": {
            "tags": []
          },
          "execution_count": 447
        }
      ]
    },
    {
      "cell_type": "markdown",
      "metadata": {
        "id": "ONa44X9rckAr",
        "colab_type": "text"
      },
      "source": [
        "From above result we can see:\n",
        "1. The text is in bytes form thus we need to decode it into string type,\n",
        "2. There are unnecessary characters/tags like \\n, \"  \" and \\ . We have to remove them with \" \".\n",
        "3. There are unnecessary symbols like ?, ;, :, etc we have to remove them as they dont have any significance in our article classification objective.\n",
        "4. Lots of stopping words like you, ourselves, ours, it, it's , etc we need to remove them too.\n",
        "\n",
        "We will do all these steps to clean our data in Data cleaning section."
      ]
    },
    {
      "cell_type": "markdown",
      "metadata": {
        "id": "J0BoiOUBeB8B",
        "colab_type": "text"
      },
      "source": [
        "3. Now, let's create pandas DataFrame of our dataset and visulaize it."
      ]
    },
    {
      "cell_type": "code",
      "metadata": {
        "id": "_EGPY_FVcZZ_",
        "colab_type": "code",
        "outputId": "d47c872f-b256-4b80-d6a4-8ace7fd1485b",
        "colab": {
          "base_uri": "https://localhost:8080/",
          "height": 206
        }
      },
      "source": [
        "# del list\n",
        "df = pd.DataFrame(list(zip(file_name, text, class_name)), columns = ['File_Name', 'Text', 'Class_Name'])\n",
        "\n",
        "# Create a new column which contains length of each text file (article)\n",
        "article_len = df['Text'].str.len()\n",
        "\n",
        "# Insert the new column in our dataframe df\n",
        "df.insert(2, 'Raw_Text_length', article_len)\n",
        "\n",
        "df.head()"
      ],
      "execution_count": 448,
      "outputs": [
        {
          "output_type": "execute_result",
          "data": {
            "text/html": [
              "<div>\n",
              "<style scoped>\n",
              "    .dataframe tbody tr th:only-of-type {\n",
              "        vertical-align: middle;\n",
              "    }\n",
              "\n",
              "    .dataframe tbody tr th {\n",
              "        vertical-align: top;\n",
              "    }\n",
              "\n",
              "    .dataframe thead th {\n",
              "        text-align: right;\n",
              "    }\n",
              "</style>\n",
              "<table border=\"1\" class=\"dataframe\">\n",
              "  <thead>\n",
              "    <tr style=\"text-align: right;\">\n",
              "      <th></th>\n",
              "      <th>File_Name</th>\n",
              "      <th>Text</th>\n",
              "      <th>Raw_Text_length</th>\n",
              "      <th>Class_Name</th>\n",
              "    </tr>\n",
              "  </thead>\n",
              "  <tbody>\n",
              "    <tr>\n",
              "      <th>0</th>\n",
              "      <td>490.txt</td>\n",
              "      <td>b'Brazil jobless rate hits new low\\n\\nBrazil\\'...</td>\n",
              "      <td>1925</td>\n",
              "      <td>business</td>\n",
              "    </tr>\n",
              "    <tr>\n",
              "      <th>1</th>\n",
              "      <td>025.txt</td>\n",
              "      <td>b'Yukos loses US bankruptcy battle\\n\\nA judge ...</td>\n",
              "      <td>2704</td>\n",
              "      <td>business</td>\n",
              "    </tr>\n",
              "    <tr>\n",
              "      <th>2</th>\n",
              "      <td>201.txt</td>\n",
              "      <td>b'Novartis hits acquisition trail\\n\\nSwiss dru...</td>\n",
              "      <td>1764</td>\n",
              "      <td>business</td>\n",
              "    </tr>\n",
              "    <tr>\n",
              "      <th>3</th>\n",
              "      <td>463.txt</td>\n",
              "      <td>b'US economy still growing says Fed\\n\\nMost ar...</td>\n",
              "      <td>1051</td>\n",
              "      <td>business</td>\n",
              "    </tr>\n",
              "    <tr>\n",
              "      <th>4</th>\n",
              "      <td>402.txt</td>\n",
              "      <td>b'US interest rate rise expected\\n\\nUS interes...</td>\n",
              "      <td>1811</td>\n",
              "      <td>business</td>\n",
              "    </tr>\n",
              "  </tbody>\n",
              "</table>\n",
              "</div>"
            ],
            "text/plain": [
              "  File_Name  ... Class_Name\n",
              "0   490.txt  ...   business\n",
              "1   025.txt  ...   business\n",
              "2   201.txt  ...   business\n",
              "3   463.txt  ...   business\n",
              "4   402.txt  ...   business\n",
              "\n",
              "[5 rows x 4 columns]"
            ]
          },
          "metadata": {
            "tags": []
          },
          "execution_count": 448
        }
      ]
    },
    {
      "cell_type": "code",
      "metadata": {
        "id": "WfXICSkBeRMT",
        "colab_type": "code",
        "outputId": "109185db-6859-4017-f0fe-94222f03a63b",
        "colab": {
          "base_uri": "https://localhost:8080/",
          "height": 34
        }
      },
      "source": [
        "# Dimensions of our DataFrame\n",
        "print(df.shape)"
      ],
      "execution_count": 449,
      "outputs": [
        {
          "output_type": "stream",
          "text": [
            "(2225, 4)\n"
          ],
          "name": "stdout"
        }
      ]
    },
    {
      "cell_type": "markdown",
      "metadata": {
        "id": "uKJUILdgeXpM",
        "colab_type": "text"
      },
      "source": [
        "Now, let's calculate how the articles are distributed across each class (category) by plotting a Pie chart."
      ]
    },
    {
      "cell_type": "code",
      "metadata": {
        "id": "8vuvHH3OeUPT",
        "colab_type": "code",
        "outputId": "23ab136f-1c5a-43f1-d932-d753bab91afe",
        "colab": {
          "base_uri": "https://localhost:8080/",
          "height": 268
        }
      },
      "source": [
        "# visualizing data\n",
        "classes = {}\n",
        "classes = df.Class_Name.value_counts()\n",
        "\n",
        "counts = []\n",
        "names = []\n",
        "for name, count in classes.items():\n",
        "  counts.append(count)\n",
        "  names.append(name)\n",
        "  \n",
        "fig, ax = plt.subplots()\n",
        "ax.pie(counts, labels=names, autopct='%1.1f%%')\n",
        "ax.axis('equal')  # Equal aspect ratio ensures the pie chart is circular.\n",
        "ax.set_title('Classes')\n",
        "\n",
        "# plt.legend(loc='upper right')\n",
        "plt.show()\n",
        "#almost equal distribution of each class"
      ],
      "execution_count": 450,
      "outputs": [
        {
          "output_type": "display_data",
          "data": {
            "image/png": "[encoded data removed]",
            "text/plain": [
              "<Figure size 432x288 with 1 Axes>"
            ]
          },
          "metadata": {
            "tags": []
          }
        }
      ]
    },
    {
      "cell_type": "markdown",
      "metadata": {
        "id": "PrYJFkq7eljj",
        "colab_type": "text"
      },
      "source": [
        "From the above figure, we can see that the articles are almost equally distributed across each catogory thus our data is equally distributed."
      ]
    },
    {
      "cell_type": "markdown",
      "metadata": {
        "id": "WDzfvD5ne_8l",
        "colab_type": "text"
      },
      "source": [
        "**Data Cleaning**"
      ]
    },
    {
      "cell_type": "code",
      "metadata": {
        "id": "fgjjn-xiekGO",
        "colab_type": "code",
        "colab": {}
      },
      "source": [
        "# decode the text into string type and clean the unnecessary tags\n",
        "for i in range(len(text)):\n",
        "  # I used ancient MS-DOS cp437 encoding\n",
        "  text[i] = text[i].decode('cp437')\n",
        "clean_string = lambda x: x.replace('\\n', ' ').replace('  ', ' ')\n",
        "text = [clean_string(item) for item in text]\n",
        "df['Text'] = pd.DataFrame(text)"
      ],
      "execution_count": 0,
      "outputs": []
    },
    {
      "cell_type": "code",
      "metadata": {
        "id": "DZ_VIewK9QYm",
        "colab_type": "code",
        "outputId": "cc6c1c81-0969-40b8-93c4-e84cf6c8b235",
        "colab": {
          "base_uri": "https://localhost:8080/",
          "height": 121
        }
      },
      "source": [
        "df['Text'].head()"
      ],
      "execution_count": 452,
      "outputs": [
        {
          "output_type": "execute_result",
          "data": {
            "text/plain": [
              "0    Brazil jobless rate hits new low Brazil's unem...\n",
              "1    Yukos loses US bankruptcy battle A judge has d...\n",
              "2    Novartis hits acquisition trail Swiss drugmake...\n",
              "3    US economy still growing says Fed Most areas o...\n",
              "4    US interest rate rise expected US interest rat...\n",
              "Name: Text, dtype: object"
            ]
          },
          "metadata": {
            "tags": []
          },
          "execution_count": 452
        }
      ]
    },
    {
      "cell_type": "code",
      "metadata": {
        "id": "-Mk4Sbz6fScp",
        "colab_type": "code",
        "colab": {}
      },
      "source": [
        "# remove unnecessary symobols like 's, . , ; , ?, : , ! and ,\n",
        "df['Text'] = df['Text'].str.replace(\"'s\", \"\").replace(\".\", \"\").replace(\";\", \"\").replace(\"?\", \"\").replace(\":\", \"\").replace(\"!\", \"\").replace(\",\", \"\")\n"
      ],
      "execution_count": 0,
      "outputs": []
    },
    {
      "cell_type": "code",
      "metadata": {
        "id": "tbYI51Su9V1W",
        "colab_type": "code",
        "outputId": "8e071349-1428-48af-e1e0-c9f6b058c659",
        "colab": {
          "base_uri": "https://localhost:8080/",
          "height": 121
        }
      },
      "source": [
        "df['Text'].head()"
      ],
      "execution_count": 454,
      "outputs": [
        {
          "output_type": "execute_result",
          "data": {
            "text/plain": [
              "0    Brazil jobless rate hits new low Brazil unempl...\n",
              "1    Yukos loses US bankruptcy battle A judge has d...\n",
              "2    Novartis hits acquisition trail Swiss drugmake...\n",
              "3    US economy still growing says Fed Most areas o...\n",
              "4    US interest rate rise expected US interest rat...\n",
              "Name: Text, dtype: object"
            ]
          },
          "metadata": {
            "tags": []
          },
          "execution_count": 454
        }
      ]
    },
    {
      "cell_type": "markdown",
      "metadata": {
        "id": "BhU85S0tfivf",
        "colab_type": "text"
      },
      "source": [
        "It is important to lower case all the words in our text column because we don't want our classifier to see \"My\" and \"my\" differently as it would not make any sense."
      ]
    },
    {
      "cell_type": "code",
      "metadata": {
        "id": "_s-4PrvafeaJ",
        "colab_type": "code",
        "colab": {}
      },
      "source": [
        "# convert all uppercase letter to lower case\n",
        "df['Text'] = df['Text'].str.lower()"
      ],
      "execution_count": 0,
      "outputs": []
    },
    {
      "cell_type": "markdown",
      "metadata": {
        "id": "47yIXhOAh7R-",
        "colab_type": "text"
      },
      "source": [
        "Removing stop words."
      ]
    },
    {
      "cell_type": "code",
      "metadata": {
        "id": "1gtTDkmHf9mL",
        "colab_type": "code",
        "outputId": "53132158-6757-41b6-df3f-441b660dc4a1",
        "colab": {
          "base_uri": "https://localhost:8080/",
          "height": 34
        }
      },
      "source": [
        "# nltk.download('stopwords')\n",
        "\n",
        "stop_words = list(stopwords.words('english'))\n",
        "\n",
        "# print(stop_words[0:40])\n",
        "\n",
        "print(\"There are total \", len(stop_words) ,\" stopwords.\") # 179 stop words"
      ],
      "execution_count": 456,
      "outputs": [
        {
          "output_type": "stream",
          "text": [
            "There are total  179  stopwords.\n"
          ],
          "name": "stdout"
        }
      ]
    },
    {
      "cell_type": "code",
      "metadata": {
        "id": "WeRMjCyIglkB",
        "colab_type": "code",
        "colab": {}
      },
      "source": [
        "# remove all the stopwords from our data\n",
        "df['Updated_text'] = df['Text']\n",
        "\n",
        "for s_w in stop_words:\n",
        "  \n",
        "  re_ex = r\"\\b\" + s_w + r\"\\b\" # add web url in reference\n",
        "  df['Updated_text'] = df['Updated_text'].str.replace(re_ex, '')\n",
        "  \n",
        "# create a new column and calculate each article's text length  \n",
        "df['Length_aftr_dc'] = df['Updated_text'].str.len()"
      ],
      "execution_count": 0,
      "outputs": []
    },
    {
      "cell_type": "code",
      "metadata": {
        "id": "_y-tvRCE8H-f",
        "colab_type": "code",
        "outputId": "30047416-d2b4-445d-dd18-20112632b96a",
        "colab": {
          "base_uri": "https://localhost:8080/",
          "height": 293
        }
      },
      "source": [
        "df.head()"
      ],
      "execution_count": 458,
      "outputs": [
        {
          "output_type": "execute_result",
          "data": {
            "text/html": [
              "<div>\n",
              "<style scoped>\n",
              "    .dataframe tbody tr th:only-of-type {\n",
              "        vertical-align: middle;\n",
              "    }\n",
              "\n",
              "    .dataframe tbody tr th {\n",
              "        vertical-align: top;\n",
              "    }\n",
              "\n",
              "    .dataframe thead th {\n",
              "        text-align: right;\n",
              "    }\n",
              "</style>\n",
              "<table border=\"1\" class=\"dataframe\">\n",
              "  <thead>\n",
              "    <tr style=\"text-align: right;\">\n",
              "      <th></th>\n",
              "      <th>File_Name</th>\n",
              "      <th>Text</th>\n",
              "      <th>Raw_Text_length</th>\n",
              "      <th>Class_Name</th>\n",
              "      <th>Updated_text</th>\n",
              "      <th>Length_aftr_dc</th>\n",
              "    </tr>\n",
              "  </thead>\n",
              "  <tbody>\n",
              "    <tr>\n",
              "      <th>0</th>\n",
              "      <td>490.txt</td>\n",
              "      <td>brazil jobless rate hits new low brazil unempl...</td>\n",
              "      <td>1925</td>\n",
              "      <td>business</td>\n",
              "      <td>brazil jobless rate hits new low brazil unempl...</td>\n",
              "      <td>1630</td>\n",
              "    </tr>\n",
              "    <tr>\n",
              "      <th>1</th>\n",
              "      <td>025.txt</td>\n",
              "      <td>yukos loses us bankruptcy battle a judge has d...</td>\n",
              "      <td>2704</td>\n",
              "      <td>business</td>\n",
              "      <td>yukos loses us bankruptcy battle  judge  dismi...</td>\n",
              "      <td>2172</td>\n",
              "    </tr>\n",
              "    <tr>\n",
              "      <th>2</th>\n",
              "      <td>201.txt</td>\n",
              "      <td>novartis hits acquisition trail swiss drugmake...</td>\n",
              "      <td>1764</td>\n",
              "      <td>business</td>\n",
              "      <td>novartis hits acquisition trail swiss drugmake...</td>\n",
              "      <td>1418</td>\n",
              "    </tr>\n",
              "    <tr>\n",
              "      <th>3</th>\n",
              "      <td>463.txt</td>\n",
              "      <td>us economy still growing says fed most areas o...</td>\n",
              "      <td>1051</td>\n",
              "      <td>business</td>\n",
              "      <td>us economy still growing says fed  areas   us ...</td>\n",
              "      <td>896</td>\n",
              "    </tr>\n",
              "    <tr>\n",
              "      <th>4</th>\n",
              "      <td>402.txt</td>\n",
              "      <td>us interest rate rise expected us interest rat...</td>\n",
              "      <td>1811</td>\n",
              "      <td>business</td>\n",
              "      <td>us interest rate rise expected us interest rat...</td>\n",
              "      <td>1459</td>\n",
              "    </tr>\n",
              "  </tbody>\n",
              "</table>\n",
              "</div>"
            ],
            "text/plain": [
              "  File_Name  ... Length_aftr_dc\n",
              "0   490.txt  ...           1630\n",
              "1   025.txt  ...           2172\n",
              "2   201.txt  ...           1418\n",
              "3   463.txt  ...            896\n",
              "4   402.txt  ...           1459\n",
              "\n",
              "[5 rows x 6 columns]"
            ]
          },
          "metadata": {
            "tags": []
          },
          "execution_count": 458
        }
      ]
    },
    {
      "cell_type": "markdown",
      "metadata": {
        "id": "fsJG7l5ryhqL",
        "colab_type": "text"
      },
      "source": [
        "**Text Normalization** using Lemmatization :"
      ]
    },
    {
      "cell_type": "code",
      "metadata": {
        "id": "MecjSiwFhKXF",
        "colab_type": "code",
        "outputId": "41896464-2916-4510-9d3e-19b5e85d5add",
        "colab": {
          "base_uri": "https://localhost:8080/",
          "height": 104
        }
      },
      "source": [
        "# # download pre-trained Punkt tokenizer and WordNet database\n",
        "nltk.download('punkt')\n",
        "nltk.download('wordnet')"
      ],
      "execution_count": 459,
      "outputs": [
        {
          "output_type": "stream",
          "text": [
            "[nltk_data] Downloading package punkt to /root/nltk_data...\n",
            "[nltk_data]   Package punkt is already up-to-date!\n",
            "[nltk_data] Downloading package wordnet to /root/nltk_data...\n",
            "[nltk_data]   Package wordnet is already up-to-date!\n"
          ],
          "name": "stdout"
        },
        {
          "output_type": "execute_result",
          "data": {
            "text/plain": [
              "True"
            ]
          },
          "metadata": {
            "tags": []
          },
          "execution_count": 459
        }
      ]
    },
    {
      "cell_type": "code",
      "metadata": {
        "id": "Fvv07-79v-Zf",
        "colab_type": "code",
        "colab": {}
      },
      "source": [
        "# create an object of WordNetLemmatizer class\n",
        "wordnet_lemma = WordNetLemmatizer()"
      ],
      "execution_count": 0,
      "outputs": []
    },
    {
      "cell_type": "code",
      "metadata": {
        "id": "mc9vDIDHv_Hz",
        "colab_type": "code",
        "colab": {}
      },
      "source": [
        "lemmatized_text = []\n",
        "num_articles = df.shape[0]\n",
        "\n",
        "for i in range(0, num_articles):\n",
        "  \n",
        "  new_text = []\n",
        "  \n",
        "  text = df.loc[i]['Updated_text']\n",
        "  splitted_text = text.split(\" \") #.split(list(\"., \"))\n",
        "  \n",
        "  for word in splitted_text:\n",
        "    new_text.append(wordnet_lemma.lemmatize(word, pos=\"v\")) #pos=\"a\"))\n",
        "#   print(new_text[0:2])  \n",
        "  temp_text = \" \".join(new_text) #gfg\n",
        "  \n",
        "  lemmatized_text.append(temp_text)\n",
        "  "
      ],
      "execution_count": 0,
      "outputs": []
    },
    {
      "cell_type": "code",
      "metadata": {
        "id": "IdWj0db_wQ_0",
        "colab_type": "code",
        "colab": {}
      },
      "source": [
        "df['Lemma_text'] = lemmatized_text\n",
        "df['Lemma_text_length'] = df['Lemma_text'].str.len()"
      ],
      "execution_count": 0,
      "outputs": []
    },
    {
      "cell_type": "markdown",
      "metadata": {
        "id": "VljodX09zWhc",
        "colab_type": "text"
      },
      "source": [
        "Now, let's see how our raw data of article texts have been changed after Data cleaning and Text Normalization process. "
      ]
    },
    {
      "cell_type": "code",
      "metadata": {
        "id": "R8A34U_U0Xcz",
        "colab_type": "code",
        "outputId": "9efd972e-5995-4199-b926-ed777a632166",
        "colab": {
          "base_uri": "https://localhost:8080/",
          "height": 521
        }
      },
      "source": [
        "df['Raw_Text_length'] = pd.to_numeric(df['Raw_Text_length'])\n",
        "raw_txt_len = df.groupby('Class_Name')['Raw_Text_length'].mean()\n",
        "print(\"Average article length of each class before data cleaning and lemmatization:\\n\")\n",
        "print(raw_txt_len)\n",
        "\n",
        "df['Length_aftr_dc'] = pd.to_numeric(df['Length_aftr_dc'])\n",
        "dc_txt_len = df.groupby('Class_Name')['Length_aftr_dc'].mean()\n",
        "print(\"\\nAverage article length of each class after data cleaning:\\n\")\n",
        "print(dc_txt_len)\n",
        "\n",
        "df['Lemma_text_length'] = pd.to_numeric(df['Lemma_text_length'])\n",
        "lemma_txt_len = df.groupby('Class_Name')['Lemma_text_length'].mean()\n",
        "print(\"\\nAverage article length of each class after lemmatization:\\n\")\n",
        "print(lemma_txt_len)"
      ],
      "execution_count": 463,
      "outputs": [
        {
          "output_type": "stream",
          "text": [
            "Average article length of each class before data cleaning and lemmatization:\n",
            "\n",
            "Class_Name\n",
            "business         1987.664706\n",
            "entertainment    1929.339378\n",
            "politics         2685.007194\n",
            "sport            1897.485323\n",
            "tech             2976.775561\n",
            "Name: Raw_Text_length, dtype: float64\n",
            "\n",
            "Average article length of each class after data cleaning:\n",
            "\n",
            "Class_Name\n",
            "business         1614.480392\n",
            "entertainment    1537.658031\n",
            "politics         2108.856115\n",
            "sport            1474.904110\n",
            "tech             2349.927681\n",
            "Name: Length_aftr_dc, dtype: float64\n",
            "\n",
            "Average article length of each class before data cleaning and lemmatization:\n",
            "\n",
            "Class_Name\n",
            "business         1557.621569\n",
            "entertainment    1489.163212\n",
            "politics         2035.021583\n",
            "sport            1429.373777\n",
            "tech             2266.635910\n",
            "Name: Lemma_text_length, dtype: float64\n"
          ],
          "name": "stdout"
        }
      ]
    },
    {
      "cell_type": "code",
      "metadata": {
        "id": "n-XfgnjMAact",
        "colab_type": "code",
        "outputId": "b1f34956-7ee3-4259-fc06-abda2cc2889a",
        "colab": {
          "base_uri": "https://localhost:8080/",
          "height": 392
        }
      },
      "source": [
        "# visualize the difference by plotting a graph\n",
        "plt.figure(figsize=(10,6))\n",
        "raw_txt_len.plot()\n",
        "dc_txt_len.plot()\n",
        "lemma_txt_len.plot()\n",
        "plt.legend()\n",
        "plt.show();"
      ],
      "execution_count": 464,
      "outputs": [
        {
          "output_type": "display_data",
          "data": {
            "image/png": "[encoded data removed]",
            "text/plain": [
              "<Figure size 720x432 with 1 Axes>"
            ]
          },
          "metadata": {
            "tags": []
          }
        }
      ]
    },
    {
      "cell_type": "markdown",
      "metadata": {
        "id": "AXJCn4s5B1hf",
        "colab_type": "text"
      },
      "source": [
        "From the above graph we can see that how average length of each class' article has been changed after Data cleaning and Text Normalization process. "
      ]
    },
    {
      "cell_type": "markdown",
      "metadata": {
        "id": "dPqSgPmZCdTT",
        "colab_type": "text"
      },
      "source": [
        "Create final DataFrame:"
      ]
    },
    {
      "cell_type": "code",
      "metadata": {
        "id": "sOKr8dEaBIOP",
        "colab_type": "code",
        "outputId": "47932e68-e753-45b2-dc4b-85ffea4665ed",
        "colab": {
          "base_uri": "https://localhost:8080/",
          "height": 206
        }
      },
      "source": [
        "my_df = df[[\"File_Name\",\"Lemma_text\",\"Lemma_text_length\",\"Class_Name\",]]\n",
        "my_df.head()"
      ],
      "execution_count": 465,
      "outputs": [
        {
          "output_type": "execute_result",
          "data": {
            "text/html": [
              "<div>\n",
              "<style scoped>\n",
              "    .dataframe tbody tr th:only-of-type {\n",
              "        vertical-align: middle;\n",
              "    }\n",
              "\n",
              "    .dataframe tbody tr th {\n",
              "        vertical-align: top;\n",
              "    }\n",
              "\n",
              "    .dataframe thead th {\n",
              "        text-align: right;\n",
              "    }\n",
              "</style>\n",
              "<table border=\"1\" class=\"dataframe\">\n",
              "  <thead>\n",
              "    <tr style=\"text-align: right;\">\n",
              "      <th></th>\n",
              "      <th>File_Name</th>\n",
              "      <th>Lemma_text</th>\n",
              "      <th>Lemma_text_length</th>\n",
              "      <th>Class_Name</th>\n",
              "    </tr>\n",
              "  </thead>\n",
              "  <tbody>\n",
              "    <tr>\n",
              "      <th>0</th>\n",
              "      <td>490.txt</td>\n",
              "      <td>brazil jobless rate hit new low brazil unemplo...</td>\n",
              "      <td>1592</td>\n",
              "      <td>business</td>\n",
              "    </tr>\n",
              "    <tr>\n",
              "      <th>1</th>\n",
              "      <td>025.txt</td>\n",
              "      <td>yukos lose us bankruptcy battle  judge  dismis...</td>\n",
              "      <td>2100</td>\n",
              "      <td>business</td>\n",
              "    </tr>\n",
              "    <tr>\n",
              "      <th>2</th>\n",
              "      <td>201.txt</td>\n",
              "      <td>novartis hit acquisition trail swiss drugmaker...</td>\n",
              "      <td>1372</td>\n",
              "      <td>business</td>\n",
              "    </tr>\n",
              "    <tr>\n",
              "      <th>3</th>\n",
              "      <td>463.txt</td>\n",
              "      <td>us economy still grow say feed  areas   us saw...</td>\n",
              "      <td>859</td>\n",
              "      <td>business</td>\n",
              "    </tr>\n",
              "    <tr>\n",
              "      <th>4</th>\n",
              "      <td>402.txt</td>\n",
              "      <td>us interest rate rise expect us interest rat  ...</td>\n",
              "      <td>1402</td>\n",
              "      <td>business</td>\n",
              "    </tr>\n",
              "  </tbody>\n",
              "</table>\n",
              "</div>"
            ],
            "text/plain": [
              "  File_Name  ... Class_Name\n",
              "0   490.txt  ...   business\n",
              "1   025.txt  ...   business\n",
              "2   201.txt  ...   business\n",
              "3   463.txt  ...   business\n",
              "4   402.txt  ...   business\n",
              "\n",
              "[5 rows x 4 columns]"
            ]
          },
          "metadata": {
            "tags": []
          },
          "execution_count": 465
        }
      ]
    },
    {
      "cell_type": "markdown",
      "metadata": {
        "id": "6sr9Nvq9EOfn",
        "colab_type": "text"
      },
      "source": [
        "**Feature Engineering**"
      ]
    },
    {
      "cell_type": "code",
      "metadata": {
        "id": "69AhjXkUhoAZ",
        "colab_type": "code",
        "outputId": "bd2db9ae-c45f-473f-980c-5418c398211c",
        "colab": {
          "base_uri": "https://localhost:8080/",
          "height": 206
        }
      },
      "source": [
        "my_df.head()"
      ],
      "execution_count": 466,
      "outputs": [
        {
          "output_type": "execute_result",
          "data": {
            "text/html": [
              "<div>\n",
              "<style scoped>\n",
              "    .dataframe tbody tr th:only-of-type {\n",
              "        vertical-align: middle;\n",
              "    }\n",
              "\n",
              "    .dataframe tbody tr th {\n",
              "        vertical-align: top;\n",
              "    }\n",
              "\n",
              "    .dataframe thead th {\n",
              "        text-align: right;\n",
              "    }\n",
              "</style>\n",
              "<table border=\"1\" class=\"dataframe\">\n",
              "  <thead>\n",
              "    <tr style=\"text-align: right;\">\n",
              "      <th></th>\n",
              "      <th>File_Name</th>\n",
              "      <th>Lemma_text</th>\n",
              "      <th>Lemma_text_length</th>\n",
              "      <th>Class_Name</th>\n",
              "    </tr>\n",
              "  </thead>\n",
              "  <tbody>\n",
              "    <tr>\n",
              "      <th>0</th>\n",
              "      <td>490.txt</td>\n",
              "      <td>brazil jobless rate hit new low brazil unemplo...</td>\n",
              "      <td>1592</td>\n",
              "      <td>business</td>\n",
              "    </tr>\n",
              "    <tr>\n",
              "      <th>1</th>\n",
              "      <td>025.txt</td>\n",
              "      <td>yukos lose us bankruptcy battle  judge  dismis...</td>\n",
              "      <td>2100</td>\n",
              "      <td>business</td>\n",
              "    </tr>\n",
              "    <tr>\n",
              "      <th>2</th>\n",
              "      <td>201.txt</td>\n",
              "      <td>novartis hit acquisition trail swiss drugmaker...</td>\n",
              "      <td>1372</td>\n",
              "      <td>business</td>\n",
              "    </tr>\n",
              "    <tr>\n",
              "      <th>3</th>\n",
              "      <td>463.txt</td>\n",
              "      <td>us economy still grow say feed  areas   us saw...</td>\n",
              "      <td>859</td>\n",
              "      <td>business</td>\n",
              "    </tr>\n",
              "    <tr>\n",
              "      <th>4</th>\n",
              "      <td>402.txt</td>\n",
              "      <td>us interest rate rise expect us interest rat  ...</td>\n",
              "      <td>1402</td>\n",
              "      <td>business</td>\n",
              "    </tr>\n",
              "  </tbody>\n",
              "</table>\n",
              "</div>"
            ],
            "text/plain": [
              "  File_Name  ... Class_Name\n",
              "0   490.txt  ...   business\n",
              "1   025.txt  ...   business\n",
              "2   201.txt  ...   business\n",
              "3   463.txt  ...   business\n",
              "4   402.txt  ...   business\n",
              "\n",
              "[5 rows x 4 columns]"
            ]
          },
          "metadata": {
            "tags": []
          },
          "execution_count": 466
        }
      ]
    },
    {
      "cell_type": "code",
      "metadata": {
        "id": "awEYRu2LDKWF",
        "colab_type": "code",
        "colab": {}
      },
      "source": [
        "# class label encoding\n",
        "label_enc = LabelEncoder()\n",
        "class_id_values = label_enc.fit_transform(my_df['Class_Name']) \n",
        "my_df.insert(4, 'Class_id', class_id_values)"
      ],
      "execution_count": 0,
      "outputs": []
    },
    {
      "cell_type": "code",
      "metadata": {
        "id": "r4vRbAZ_j8LR",
        "colab_type": "code",
        "outputId": "4cd42485-f533-4ae2-f62a-7157ed532eaa",
        "colab": {
          "base_uri": "https://localhost:8080/",
          "height": 206
        }
      },
      "source": [
        "my_df.head()"
      ],
      "execution_count": 468,
      "outputs": [
        {
          "output_type": "execute_result",
          "data": {
            "text/html": [
              "<div>\n",
              "<style scoped>\n",
              "    .dataframe tbody tr th:only-of-type {\n",
              "        vertical-align: middle;\n",
              "    }\n",
              "\n",
              "    .dataframe tbody tr th {\n",
              "        vertical-align: top;\n",
              "    }\n",
              "\n",
              "    .dataframe thead th {\n",
              "        text-align: right;\n",
              "    }\n",
              "</style>\n",
              "<table border=\"1\" class=\"dataframe\">\n",
              "  <thead>\n",
              "    <tr style=\"text-align: right;\">\n",
              "      <th></th>\n",
              "      <th>File_Name</th>\n",
              "      <th>Lemma_text</th>\n",
              "      <th>Lemma_text_length</th>\n",
              "      <th>Class_Name</th>\n",
              "      <th>Class_id</th>\n",
              "    </tr>\n",
              "  </thead>\n",
              "  <tbody>\n",
              "    <tr>\n",
              "      <th>0</th>\n",
              "      <td>490.txt</td>\n",
              "      <td>brazil jobless rate hit new low brazil unemplo...</td>\n",
              "      <td>1592</td>\n",
              "      <td>business</td>\n",
              "      <td>0</td>\n",
              "    </tr>\n",
              "    <tr>\n",
              "      <th>1</th>\n",
              "      <td>025.txt</td>\n",
              "      <td>yukos lose us bankruptcy battle  judge  dismis...</td>\n",
              "      <td>2100</td>\n",
              "      <td>business</td>\n",
              "      <td>0</td>\n",
              "    </tr>\n",
              "    <tr>\n",
              "      <th>2</th>\n",
              "      <td>201.txt</td>\n",
              "      <td>novartis hit acquisition trail swiss drugmaker...</td>\n",
              "      <td>1372</td>\n",
              "      <td>business</td>\n",
              "      <td>0</td>\n",
              "    </tr>\n",
              "    <tr>\n",
              "      <th>3</th>\n",
              "      <td>463.txt</td>\n",
              "      <td>us economy still grow say feed  areas   us saw...</td>\n",
              "      <td>859</td>\n",
              "      <td>business</td>\n",
              "      <td>0</td>\n",
              "    </tr>\n",
              "    <tr>\n",
              "      <th>4</th>\n",
              "      <td>402.txt</td>\n",
              "      <td>us interest rate rise expect us interest rat  ...</td>\n",
              "      <td>1402</td>\n",
              "      <td>business</td>\n",
              "      <td>0</td>\n",
              "    </tr>\n",
              "  </tbody>\n",
              "</table>\n",
              "</div>"
            ],
            "text/plain": [
              "  File_Name  ... Class_id\n",
              "0   490.txt  ...        0\n",
              "1   025.txt  ...        0\n",
              "2   201.txt  ...        0\n",
              "3   463.txt  ...        0\n",
              "4   402.txt  ...        0\n",
              "\n",
              "[5 rows x 5 columns]"
            ]
          },
          "metadata": {
            "tags": []
          },
          "execution_count": 468
        }
      ]
    },
    {
      "cell_type": "code",
      "metadata": {
        "id": "lR6A7DLOkWW0",
        "colab_type": "code",
        "outputId": "26651945-50ae-451a-a449-5b5ac5a316d1",
        "colab": {
          "base_uri": "https://localhost:8080/",
          "height": 121
        }
      },
      "source": [
        "my_df['Class_id'].value_counts()"
      ],
      "execution_count": 469,
      "outputs": [
        {
          "output_type": "execute_result",
          "data": {
            "text/plain": [
              "3    511\n",
              "0    510\n",
              "2    417\n",
              "4    401\n",
              "1    386\n",
              "Name: Class_id, dtype: int64"
            ]
          },
          "metadata": {
            "tags": []
          },
          "execution_count": 469
        }
      ]
    },
    {
      "cell_type": "markdown",
      "metadata": {
        "id": "eULxY9LgktBT",
        "colab_type": "text"
      },
      "source": [
        "Train-Test_Split"
      ]
    },
    {
      "cell_type": "code",
      "metadata": {
        "id": "hpxayrjkkcfe",
        "colab_type": "code",
        "colab": {}
      },
      "source": [
        ".\n",
        "X_train, X_test, y_train, y_test = train_test_split(my_df['Lemma_text'],my_df['Class_id'],\n",
        "                                                    test_size=0.25, random_state=8)"
      ],
      "execution_count": 0,
      "outputs": []
    },
    {
      "cell_type": "code",
      "metadata": {
        "id": "SyHHcx0_k8Td",
        "colab_type": "code",
        "outputId": "1ade475d-0f38-41c8-b229-01a66279785a",
        "colab": {
          "base_uri": "https://localhost:8080/",
          "height": 34
        }
      },
      "source": [
        "print(X_train.shape, X_test.shape, y_train.shape, y_test.shape)"
      ],
      "execution_count": 471,
      "outputs": [
        {
          "output_type": "stream",
          "text": [
            "(1668,) (557,) (1668,) (557,)\n"
          ],
          "name": "stdout"
        }
      ]
    },
    {
      "cell_type": "markdown",
      "metadata": {
        "id": "BJS6Tfv-lAgW",
        "colab_type": "text"
      },
      "source": [
        "**Text representation**"
      ]
    },
    {
      "cell_type": "code",
      "metadata": {
        "id": "pPajqeg5k-vN",
        "colab_type": "code",
        "colab": {}
      },
      "source": [
        "# TfidfVectorizer\n",
        "\n",
        "vectorizer = TfidfVectorizer(encoding = 'utf-8',\n",
        "                        ngram_range = (1,2),\n",
        "                        stop_words = None,\n",
        "                        lowercase = False,\n",
        "                        max_df = 1.0,\n",
        "                        min_df = 10,\n",
        "                        max_features = 400,\n",
        "                        norm='l2',\n",
        "                        sublinear_tf=True\n",
        "                       )"
      ],
      "execution_count": 0,
      "outputs": []
    },
    {
      "cell_type": "code",
      "metadata": {
        "id": "4OzC4_Vdlftp",
        "colab_type": "code",
        "colab": {}
      },
      "source": [
        "# train-test set transformation\n",
        "# train\n",
        "features_train = vectorizer.fit_transform(X_train).toarray()\n",
        "labels_train = y_train\n",
        "# test\n",
        "features_test = vectorizer.transform(X_test).toarray()\n",
        "labels_test = y_test"
      ],
      "execution_count": 0,
      "outputs": []
    },
    {
      "cell_type": "code",
      "metadata": {
        "id": "ZPpJyjc8lrp9",
        "colab_type": "code",
        "outputId": "234d6fa8-9f80-4d75-82c3-145366eace7c",
        "colab": {
          "base_uri": "https://localhost:8080/",
          "height": 52
        }
      },
      "source": [
        "# train\n",
        "features_train = vectorizer.fit_transform(X_train).toarray()\n",
        "labels_train = y_train\n",
        "# test\n",
        "features_test = vectorizer.transform(X_test).toarray()\n",
        "labels_test = y_test\n",
        "\n",
        "print(features_train.shape)\n",
        "print(features_test.shape)"
      ],
      "execution_count": 474,
      "outputs": [
        {
          "output_type": "stream",
          "text": [
            "(1668, 400)\n",
            "(557, 400)\n"
          ],
          "name": "stdout"
        }
      ]
    },
    {
      "cell_type": "markdown",
      "metadata": {
        "id": "o2RpsVYqmXkz",
        "colab_type": "text"
      },
      "source": [
        "**Building Classifier**"
      ]
    },
    {
      "cell_type": "markdown",
      "metadata": {
        "id": "hkthhgl0pUHh",
        "colab_type": "text"
      },
      "source": [
        "For building a perfect classifier for our article class classification task, I will use Random Forest Model. First we will find best values for parameters of Random Forest using Randomized Search Cross Validation."
      ]
    },
    {
      "cell_type": "code",
      "metadata": {
        "id": "mvahQ_iNmQLj",
        "colab_type": "code",
        "colab": {
          "base_uri": "https://localhost:8080/",
          "height": 54
        },
        "outputId": "0620c2f4-c4f6-4e5d-daeb-725c5cee6b9c"
      },
      "source": [
        "# select parameters to be tuned\n",
        "\n",
        "# n_estimators (The number of trees in the forest)\n",
        "n_estimators = [int(x) for x in np.linspace(start = 200, stop = 1000, num = 5)]\n",
        "\n",
        "# max_depth (The maximum depth of the tree)\n",
        "max_depth = [int(x) for x in np.linspace(20, 100, num = 5)]\n",
        "max_depth.append(None)\n",
        "\n",
        "# min_samples_split (The minimum number of samples required to split an internal node)\n",
        "min_samples_split = [2, 5, 10]\n",
        "\n",
        "# min_samples_leaf (The minimum number of samples required to be at a leaf node)\n",
        "min_samples_leaf = [1, 2, 4]\n",
        "\n",
        "# bootstrap (Whether bootstrap samples are used when building trees. If False, the whole datset is used to build each tree)\n",
        "bootstrap = [True, False]\n",
        "\n",
        "# max_features (The number of features to consider when looking for the best split)\n",
        "max_features = ['auto', 'sqrt']\n",
        "\n",
        "\n",
        "\n",
        "# Create the random grid\n",
        "random_grid = {'n_estimators': n_estimators,\n",
        "               'max_features': max_features,\n",
        "               'max_depth': max_depth,\n",
        "               'min_samples_split': min_samples_split,\n",
        "               'min_samples_leaf': min_samples_leaf,\n",
        "               'bootstrap': bootstrap}\n",
        "\n",
        "print(random_grid)"
      ],
      "execution_count": 475,
      "outputs": [
        {
          "output_type": "stream",
          "text": [
            "{'n_estimators': [200, 400, 600, 800, 1000], 'max_features': ['auto', 'sqrt'], 'max_depth': [20, 40, 60, 80, 100, None], 'min_samples_split': [2, 5, 10], 'min_samples_leaf': [1, 2, 4], 'bootstrap': [True, False]}\n"
          ],
          "name": "stdout"
        }
      ]
    },
    {
      "cell_type": "code",
      "metadata": {
        "id": "RqVhHPLOqk7Y",
        "colab_type": "code",
        "colab": {
          "base_uri": "https://localhost:8080/",
          "height": 538
        },
        "outputId": "2711bbdb-b718-41eb-9f44-6a53e0cc21ff"
      },
      "source": [
        "# create model\n",
        "rf_model = RandomForestClassifier(n_jobs=-1,random_state=8)\n",
        "\n",
        "# Randomized Search Cross Validation\n",
        "randomSCV = RandomizedSearchCV(estimator=rf_model,\n",
        "                              param_distributions=random_grid,\n",
        "                              n_iter=50,\n",
        "                             scoring='accuracy',\n",
        "                              cv=3,\n",
        "                              verbose=1,\n",
        "                               n_jobs=-1,\n",
        "                              random_state=8)\n",
        "\n",
        "randomSCV.fit(features_train, labels_train)"
      ],
      "execution_count": 478,
      "outputs": [
        {
          "output_type": "stream",
          "text": [
            "Fitting 3 folds for each of 50 candidates, totalling 150 fits\n"
          ],
          "name": "stdout"
        },
        {
          "output_type": "stream",
          "text": [
            "[Parallel(n_jobs=-1)]: Using backend LokyBackend with 2 concurrent workers.\n",
            "[Parallel(n_jobs=-1)]: Done  46 tasks      | elapsed:  2.3min\n",
            "[Parallel(n_jobs=-1)]: Done 150 out of 150 | elapsed:  7.3min finished\n"
          ],
          "name": "stderr"
        },
        {
          "output_type": "execute_result",
          "data": {
            "text/plain": [
              "RandomizedSearchCV(cv=3, error_score='raise-deprecating',\n",
              "                   estimator=RandomForestClassifier(bootstrap=True,\n",
              "                                                    class_weight=None,\n",
              "                                                    criterion='gini',\n",
              "                                                    max_depth=None,\n",
              "                                                    max_features='auto',\n",
              "                                                    max_leaf_nodes=None,\n",
              "                                                    min_impurity_decrease=0.0,\n",
              "                                                    min_impurity_split=None,\n",
              "                                                    min_samples_leaf=1,\n",
              "                                                    min_samples_split=2,\n",
              "                                                    min_weight_fraction_leaf=0.0,\n",
              "                                                    n_estimators='warn',\n",
              "                                                    n_jobs=-1, oob_scor...\n",
              "                                                    warm_start=False),\n",
              "                   iid='warn', n_iter=50, n_jobs=-1,\n",
              "                   param_distributions={'bootstrap': [True, False],\n",
              "                                        'max_depth': [20, 40, 60, 80, 100,\n",
              "                                                      None],\n",
              "                                        'max_features': ['auto', 'sqrt'],\n",
              "                                        'min_samples_leaf': [1, 2, 4],\n",
              "                                        'min_samples_split': [2, 5, 10],\n",
              "                                        'n_estimators': [200, 400, 600, 800,\n",
              "                                                         1000]},\n",
              "                   pre_dispatch='2*n_jobs', random_state=8, refit=True,\n",
              "                   return_train_score=False, scoring='accuracy', verbose=1)"
            ]
          },
          "metadata": {
            "tags": []
          },
          "execution_count": 478
        }
      ]
    },
    {
      "cell_type": "code",
      "metadata": {
        "id": "GtSAePWuqs5s",
        "colab_type": "code",
        "colab": {
          "base_uri": "https://localhost:8080/",
          "height": 141
        },
        "outputId": "71438e46-b1de-4fb5-c78c-25f7bb2dd86c"
      },
      "source": [
        "print(\"The best hyperparameters from Random Search are:\")\n",
        "print(randomSCV.best_params_)\n",
        "print(\"========================================================================================================\")\n",
        "print(\"\\nThe mean accuracy of a model with these hyperparameters is:\")\n",
        "print(randomSCV.best_score_ * 100)"
      ],
      "execution_count": 480,
      "outputs": [
        {
          "output_type": "stream",
          "text": [
            "The best hyperparameters from Random Search are:\n",
            "{'n_estimators': 800, 'min_samples_split': 2, 'min_samples_leaf': 1, 'max_features': 'auto', 'max_depth': 80, 'bootstrap': False}\n",
            "========================================================================================================\n",
            "\n",
            "The mean accuracy of a model with these hyperparameters is:\n",
            "94.7841726618705\n"
          ],
          "name": "stdout"
        }
      ]
    },
    {
      "cell_type": "code",
      "metadata": {
        "id": "MA_bZVeis9qg",
        "colab_type": "code",
        "colab": {
          "base_uri": "https://localhost:8080/",
          "height": 139
        },
        "outputId": "bd1103af-b4ee-4a33-ca01-5a8ff1a1776e"
      },
      "source": [
        "# save the best model\n",
        "my_rfc = randomSCV.best_estimator_\n",
        "my_rfc"
      ],
      "execution_count": 481,
      "outputs": [
        {
          "output_type": "execute_result",
          "data": {
            "text/plain": [
              "RandomForestClassifier(bootstrap=False, class_weight=None, criterion='gini',\n",
              "                       max_depth=80, max_features='auto', max_leaf_nodes=None,\n",
              "                       min_impurity_decrease=0.0, min_impurity_split=None,\n",
              "                       min_samples_leaf=1, min_samples_split=2,\n",
              "                       min_weight_fraction_leaf=0.0, n_estimators=800,\n",
              "                       n_jobs=-1, oob_score=False, random_state=8, verbose=0,\n",
              "                       warm_start=False)"
            ]
          },
          "metadata": {
            "tags": []
          },
          "execution_count": 481
        }
      ]
    },
    {
      "cell_type": "code",
      "metadata": {
        "id": "0AjaQzkYtSdv",
        "colab_type": "code",
        "colab": {}
      },
      "source": [
        "# fit model to training data and predict labels on test data\n",
        "my_rfc.fit(features_train, labels_train)\n",
        "pred_labels = my_rfc.predict(features_test)\n",
        "# pred_labels[0:5]"
      ],
      "execution_count": 0,
      "outputs": []
    },
    {
      "cell_type": "code",
      "metadata": {
        "id": "2YlqlvMptbEn",
        "colab_type": "code",
        "colab": {
          "base_uri": "https://localhost:8080/",
          "height": 86
        },
        "outputId": "36c26ba4-e591-4c60-88d2-c0bba2259ac2"
      },
      "source": [
        "# training accuracy\n",
        "print(accuracy_score(labels_train, my_rfc.predict(features_train)) * 100)\n",
        "\n",
        "print(\"=====================================================================================\")\n",
        "\n",
        "# test accuracy\n",
        "print(\"The mean or classification accuracy of RandomForest model on test data is:\")\n",
        "rfc_accuracy = accuracy_score(labels_test, pred_labels) * 100\n",
        "print(rfc_accuracy)"
      ],
      "execution_count": 495,
      "outputs": [
        {
          "output_type": "stream",
          "text": [
            "100.0\n",
            "=====================================================================================\n",
            "The mean or classification accuracy of RandomForest model on test data is:\n",
            "95.15260323159784\n"
          ],
          "name": "stdout"
        }
      ]
    },
    {
      "cell_type": "markdown",
      "metadata": {
        "id": "um1poHFstu7Y",
        "colab_type": "text"
      },
      "source": [
        "For further visualization of evaluation of performance our model I will use Confusion Matrix."
      ]
    },
    {
      "cell_type": "code",
      "metadata": {
        "id": "bhd6xxTktneR",
        "colab_type": "code",
        "colab": {
          "base_uri": "https://localhost:8080/",
          "height": 104
        },
        "outputId": "1e1f3a86-6653-438b-ee92-e97880e4f0c7"
      },
      "source": [
        "# generate confusion matrix\n",
        "# add web url in reference -- \n",
        "conf_matrix = confusion_matrix(labels_test, pred_labels)\n",
        "conf_matrix"
      ],
      "execution_count": 485,
      "outputs": [
        {
          "output_type": "execute_result",
          "data": {
            "text/plain": [
              "array([[129,   1,   4,   0,   1],\n",
              "       [  2,  86,   2,   2,   1],\n",
              "       [  4,   0,  99,   0,   2],\n",
              "       [  2,   2,   0, 124,   0],\n",
              "       [  3,   0,   0,   1,  92]])"
            ]
          },
          "metadata": {
            "tags": []
          },
          "execution_count": 485
        }
      ]
    },
    {
      "cell_type": "markdown",
      "metadata": {
        "id": "FtZLhl5YuFkR",
        "colab_type": "text"
      },
      "source": [
        "For better visualization, I will build heatmap of Confusion matrix"
      ]
    },
    {
      "cell_type": "code",
      "metadata": {
        "id": "3pwnsNvMt_w5",
        "colab_type": "code",
        "colab": {
          "base_uri": "https://localhost:8080/",
          "height": 663
        },
        "outputId": "e2da9945-e37b-4efb-d152-a9f8c8ecd23b"
      },
      "source": [
        "# create dataframe of Confusion Matrix\n",
        "df_cm = pd.DataFrame(conf_matrix, index=class_names, columns=class_names)\n",
        "\n",
        "# heatmap\n",
        "fig = plt.figure(figsize=(10,10))\n",
        "fontsize = 11\n",
        "\n",
        "try:\n",
        "    heatmap = sns.heatmap(df_cm, annot=True, fmt=\"d\")\n",
        "except ValueError:\n",
        "    raise ValueError(\"Confusion matrix values must be integers.\")\n",
        "\n",
        "heatmap.yaxis.set_ticklabels(heatmap.yaxis.get_ticklabels(), rotation=0, ha='right', fontsize=fontsize)\n",
        "heatmap.xaxis.set_ticklabels(heatmap.xaxis.get_ticklabels(), rotation=45, ha='right', fontsize=fontsize)\n",
        "\n",
        "plt.ylabel('Predicted label')\n",
        "plt.xlabel('True label')\n",
        "plt.show();"
      ],
      "execution_count": 486,
      "outputs": [
        {
          "output_type": "display_data",
          "data": {
            "image/png": "[encoded data removed]",
            "text/plain": [
              "<Figure size 720x720 with 2 Axes>"
            ]
          },
          "metadata": {
            "tags": []
          }
        }
      ]
    },
    {
      "cell_type": "markdown",
      "metadata": {
        "id": "kgIVUqrjuhJE",
        "colab_type": "text"
      },
      "source": [
        "**Classification using Word Embedding Model GloVe:**"
      ]
    },
    {
      "cell_type": "code",
      "metadata": {
        "id": "gbBt9wJMueDk",
        "colab_type": "code",
        "colab": {}
      },
      "source": [
        "# split text and remove duplicates\n",
        "split_func = lambda x: list(dict.fromkeys(x[\"Lemma_text\"].split()))\n",
        "\n",
        "X = my_df.apply(split_func, axis=1)\n",
        "y = my_df[\"Class_id\"]"
      ],
      "execution_count": 0,
      "outputs": []
    },
    {
      "cell_type": "code",
      "metadata": {
        "id": "s9ezATPQu5bG",
        "colab_type": "code",
        "colab": {
          "base_uri": "https://localhost:8080/",
          "height": 451
        },
        "outputId": "8213d825-0447-4e7b-adbb-4c951b95b2d0"
      },
      "source": [
        "# Getting the embedding model\n",
        "!wget http://nlp.stanford.edu/data/glove.6B.zip\n",
        "!unzip glove.6B.zip"
      ],
      "execution_count": 490,
      "outputs": [
        {
          "output_type": "stream",
          "text": [
            "--2019-09-22 11:30:20--  http://nlp.stanford.edu/data/glove.6B.zip\n",
            "Resolving nlp.stanford.edu (nlp.stanford.edu)... 171.64.67.140\n",
            "Connecting to nlp.stanford.edu (nlp.stanford.edu)|171.64.67.140|:80... connected.\n",
            "HTTP request sent, awaiting response... 302 Found\n",
            "Location: https://nlp.stanford.edu/data/glove.6B.zip [following]\n",
            "--2019-09-22 11:30:20--  https://nlp.stanford.edu/data/glove.6B.zip\n",
            "Connecting to nlp.stanford.edu (nlp.stanford.edu)|171.64.67.140|:443... connected.\n",
            "HTTP request sent, awaiting response... 301 Moved Permanently\n",
            "Location: http://downloads.cs.stanford.edu/nlp/data/glove.6B.zip [following]\n",
            "--2019-09-22 11:30:20--  http://downloads.cs.stanford.edu/nlp/data/glove.6B.zip\n",
            "Resolving downloads.cs.stanford.edu (downloads.cs.stanford.edu)... 171.64.64.22\n",
            "Connecting to downloads.cs.stanford.edu (downloads.cs.stanford.edu)|171.64.64.22|:80... connected.\n",
            "HTTP request sent, awaiting response... 200 OK\n",
            "Length: 862182613 (822M) [application/zip]\n",
            "Saving to: ‘glove.6B.zip’\n",
            "\n",
            "glove.6B.zip        100%[===================>] 822.24M  85.2MB/s    in 10s     \n",
            "\n",
            "2019-09-22 11:30:30 (82.4 MB/s) - ‘glove.6B.zip’ saved [862182613/862182613]\n",
            "\n",
            "Archive:  glove.6B.zip\n",
            "  inflating: glove.6B.50d.txt        \n",
            "  inflating: glove.6B.100d.txt       \n",
            "  inflating: glove.6B.200d.txt       \n",
            "  inflating: glove.6B.300d.txt       \n"
          ],
          "name": "stdout"
        }
      ]
    },
    {
      "cell_type": "code",
      "metadata": {
        "id": "Y9gAjFcJvJqe",
        "colab_type": "code",
        "colab": {}
      },
      "source": [
        "# Load and prepare word embeddings from GloVe Model\n",
        "import struct\n",
        "\n",
        "glove_dict = {}\n",
        "all_words = set(w for words in X for w in words)\n",
        "with open(\"glove.6B.50d.txt\", \"rb\") as infile:\n",
        "  for line in infile:\n",
        "    parts = line.split()\n",
        "    word = parts[0].decode(\"utf-8\")\n",
        "    if(word in all_words):\n",
        "      nums = np.array(parts[1:], dtype=np.float32)\n",
        "      glove_dict[word] = nums"
      ],
      "execution_count": 0,
      "outputs": []
    },
    {
      "cell_type": "code",
      "metadata": {
        "id": "mLrhI6KEvd8o",
        "colab_type": "code",
        "colab": {
          "base_uri": "https://localhost:8080/",
          "height": 34
        },
        "outputId": "1b98ff69-a638-4afd-dcba-89e684b4a781"
      },
      "source": [
        "# Total words in our dataset (dictionary) - X\n",
        "print(len(all_words))"
      ],
      "execution_count": 492,
      "outputs": [
        {
          "output_type": "stream",
          "text": [
            "53195\n"
          ],
          "name": "stdout"
        }
      ]
    },
    {
      "cell_type": "markdown",
      "metadata": {
        "id": "VabZA3y8vtDr",
        "colab_type": "text"
      },
      "source": [
        "Building features"
      ]
    },
    {
      "cell_type": "code",
      "metadata": {
        "id": "y4JAv09CvpT_",
        "colab_type": "code",
        "colab": {}
      },
      "source": [
        "# First by averaging word vectors of all words in a text file (row/article)\n",
        "\n",
        "class MeanEmbeddingVectorizer(object):\n",
        "  def __init__(self, word2vec):\n",
        "    self.word2vec = word2vec\n",
        "    if len(word2vec)>0:\n",
        "      self.dim=len(word2vec[next(iter(word2vec))])\n",
        "    else:\n",
        "      self.dim=0\n",
        "    \n",
        "  def fit(self, X, y):\n",
        "    return self\n",
        "  \n",
        "  def transform(self, X):\n",
        "    return np.array([\n",
        "        np.mean([self.word2vec[w] for w in words if w in self.word2vec]\n",
        "               or [np.zeros(self.dim)], axis=0)\n",
        "        for words in X\n",
        "    ])"
      ],
      "execution_count": 0,
      "outputs": []
    },
    {
      "cell_type": "code",
      "metadata": {
        "id": "d0WjEyFjv5bn",
        "colab_type": "code",
        "colab": {
          "base_uri": "https://localhost:8080/",
          "height": 52
        },
        "outputId": "a6c01d6b-08f2-465c-996f-0dd688900f34"
      },
      "source": [
        "glove_mean = Pipeline([(\"glove vectorizer\", MeanEmbeddingVectorizer(glove_dict)), \n",
        "                        (\"extra trees\", ExtraTreesClassifier(n_estimators=500))])\n",
        "\n",
        "cvs_mean = cross_val_score(glove_mean, X, y, cv=4).mean() * 100 \n",
        "print(\"The mean or classification accuracy of pretrained GloVe (mean) model is:\")\n",
        "print(cvs_mean)"
      ],
      "execution_count": 502,
      "outputs": [
        {
          "output_type": "stream",
          "text": [
            "The mean or classification accuracy of pretrained GloVe (mean) model is:\n",
            "95.77261088217988\n"
          ],
          "name": "stdout"
        }
      ]
    },
    {
      "cell_type": "code",
      "metadata": {
        "id": "Rl9AC_3Yw7U8",
        "colab_type": "code",
        "colab": {}
      },
      "source": [
        "# Now usinfg tfidf weighting method\n",
        "\n",
        "class TfidfEmbeddingVectorizer(object):\n",
        "  def __init__(self, word2vec):\n",
        "    \n",
        "    self.word2vec = word2vec\n",
        "    self.word2weight = None\n",
        "    if len(word2vec)>0:\n",
        "      self.dim=len(word2vec[next(iter(word2vec))])\n",
        "    else:\n",
        "      self.dim=0\n",
        "    \n",
        "  def fit(self, X, y):\n",
        "    \n",
        "    tfidf = TfidfVectorizer(analyzer=lambda x:x)\n",
        "    tfidf.fit(X)\n",
        "    \n",
        "    # if a word was never seen - it must be at least as infrequent as any of the\n",
        "    # known words - so the default idf is the max of known idf's\n",
        "    max_idf = max(tfidf.idf_)\n",
        "    self.word2weight = defaultdict(\n",
        "        lambda: max_idf, \n",
        "        [(w, tfidf.idf_[i]) for w, i in tfidf.vocabulary_.items()])\n",
        "\n",
        "    return self\n",
        "  \n",
        "  def transform(self, X):\n",
        "    \n",
        "    return np.array([\n",
        "        np.mean([self.word2vec[w] * self.word2weight[w]\n",
        "                for w in words if w in self.word2vec] or\n",
        "               [np.zeros(self.dim)], axis=0)\n",
        "        for words in X\n",
        "    ])"
      ],
      "execution_count": 0,
      "outputs": []
    },
    {
      "cell_type": "code",
      "metadata": {
        "id": "Kv-ci36txowm",
        "colab_type": "code",
        "colab": {
          "base_uri": "https://localhost:8080/",
          "height": 52
        },
        "outputId": "2050b042-574b-4db0-aa3a-c4d8e9affc83"
      },
      "source": [
        "glove_tfidf = Pipeline([(\"glove vectorizer\", TfidfEmbeddingVectorizer(glove_dict)), \n",
        "                        (\"extra trees\", ExtraTreesClassifier(n_estimators=500))])\n",
        "\n",
        "cvs_tfidf = cross_val_score(glove_tfidf, X, y, cv=5).mean() * 100\n",
        "print(\"The mean or classification accuracy of pretrained GloVe (tfidf weight) model is:\")\n",
        "print(cvs_tfidf)"
      ],
      "execution_count": 505,
      "outputs": [
        {
          "output_type": "stream",
          "text": [
            "The mean or classification accuracy of pretrained GloVe (tfidf weight) model is:\n",
            "95.27842609865083\n"
          ],
          "name": "stdout"
        }
      ]
    },
    {
      "cell_type": "markdown",
      "metadata": {
        "id": "hH_jX_IlyV-W",
        "colab_type": "text"
      },
      "source": [
        "**RESULTS**"
      ]
    },
    {
      "cell_type": "code",
      "metadata": {
        "id": "GU-f16OLx_jr",
        "colab_type": "code",
        "colab": {}
      },
      "source": [
        "result = [(\"Random Forest\",rfc_accuracy), (\"glove_mean\",cvs_mean), (\"glove_tfidf\",cvs_tfidf)]"
      ],
      "execution_count": 0,
      "outputs": []
    },
    {
      "cell_type": "code",
      "metadata": {
        "id": "4iA9PGt1ydus",
        "colab_type": "code",
        "colab": {
          "base_uri": "https://localhost:8080/",
          "height": 378
        },
        "outputId": "a7d4e7e2-5d09-45da-b91b-b3b689733d7f"
      },
      "source": [
        "plt.figure(figsize=(10,6))\n",
        "sns.barplot(x = [name for name, _ in result], y = [score for _, score in result]);"
      ],
      "execution_count": 507,
      "outputs": [
        {
          "output_type": "display_data",
          "data": {
            "image/png": "[encoded data removed]",
            "text/plain": [
              "<Figure size 720x432 with 1 Axes>"
            ]
          },
          "metadata": {
            "tags": []
          }
        }
      ]
    },
    {
      "cell_type": "code",
      "metadata": {
        "id": "VsuAJDoXy785",
        "colab_type": "code",
        "colab": {
          "base_uri": "https://localhost:8080/",
          "height": 34
        },
        "outputId": "d39e43a0-904e-4af0-ebe4-0e81013a5336"
      },
      "source": [
        "print(result)"
      ],
      "execution_count": 508,
      "outputs": [
        {
          "output_type": "stream",
          "text": [
            "[('Random Forest', 95.15260323159784), ('glove_mean', 95.77261088217988), ('glove_tfidf', 95.27842609865083)]\n"
          ],
          "name": "stdout"
        }
      ]
    },
    {
      "cell_type": "code",
      "metadata": {
        "id": "6bXQeSZ2zCGF",
        "colab_type": "code",
        "colab": {}
      },
      "source": [
        ""
      ],
      "execution_count": 0,
      "outputs": []
    }
  ]
}